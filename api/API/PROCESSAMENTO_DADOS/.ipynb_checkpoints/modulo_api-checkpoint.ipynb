{
 "cells": [
  {
   "cell_type": "code",
   "execution_count": 149,
   "metadata": {},
   "outputs": [],
   "source": [
    "from xgboost import XGBClassifier\n",
    "import pickle\n",
    "import pandas as pd\n",
    "import numpy as np"
   ]
  },
  {
   "cell_type": "code",
   "execution_count": 182,
   "metadata": {},
   "outputs": [],
   "source": [
    "model = None\n",
    "encoder_municipio = None\n",
    "df_alunos = None\n",
    "df_alunos_all = None\n",
    "cols_para_proba = None\n",
    "path = ''\n",
    "\n",
    "def probabilidade_evasao(aluno_row):\n",
    "    ''' dados_aluno: Pode ser um DataFrame ou uma Serie '''\n",
    "    \n",
    "    if isinstance(aluno_row, pd.Series):\n",
    "        aluno_row = pd.DataFrame([aluno_row.values], columns=aluno_row.index)\n",
    "        \n",
    "    aluno_novo = transform(aluno_row)\n",
    "    aluno_novo = aluno_novo[cols_para_proba]\n",
    "    pred = model.predict_proba(aluno_novo)\n",
    "    \n",
    "    if len(pred) == 1:\n",
    "        return pred[0][1]\n",
    "    else:\n",
    "        return [x[1] for x in pred]\n",
    "\n",
    "def transform(df):\n",
    "    df2 = df.copy()\n",
    "    df2['UF_MUN_NASC'] = encoder_municipio.transform(df2['UF_MUN_NASC'])\n",
    "    return df2\n",
    "    \n",
    "def obter_aluno_row(cod_aluno):\n",
    "    try:\n",
    "        alunos = df_alunos_all[df_alunos_all['CD_ALUNO'] == cod_aluno]\n",
    "        return alunos.iloc[0]\n",
    "    except:\n",
    "        None\n",
    "        \n",
    "def obter_aluno_row_por_index(index_aluno):\n",
    "    try:\n",
    "        return df_alunos_all.iloc[index_aluno]\n",
    "    except:\n",
    "        return None\n",
    "        \n",
    "def remover_da_lista(lista, lista_el):\n",
    "    for e in lista_el:\n",
    "        try: lista.remove(e)\n",
    "        except: pass\n",
    "    \n",
    "    return lista\n",
    "        \n",
    "def get_municipios():\n",
    "    estados = df_alunos_all['UF_MUN_NASC'].unique()\n",
    "    estados = list(estados)\n",
    "    estados = remover_da_lista(estados, ['  ', ' ', 'CA', 'BU'])\n",
    "    return estados\n",
    "    \n",
    "    \n",
    "def obter_municipios_proba():\n",
    "    groups = df_alunos_all.groupby(['UF_MUN_NASC']).groups\n",
    "    estados = get_municipios()\n",
    "    proba_estados = []\n",
    "    \n",
    "    for estado in estados:\n",
    "        indexs = groups[estado]\n",
    "        df_estado = df_alunos_all.loc[indexs]\n",
    "        df_estado['proba'] = probabilidade_evasao(df_estado)\n",
    "        #df_estado = df_estado[df_estado['proba'] > 0.3]\n",
    "        proba_estado = np.array(probabilidade_evasao(df_estado)).mean()\n",
    "        proba_estados.append([estado, int(proba_estado*100)])\n",
    "        \n",
    "    proba_estados.sort(key=lambda x: x[1], reverse=True)\n",
    "        \n",
    "    return proba_estados\n",
    "        \n",
    "def obter_dados_aluno(cod_aluno):\n",
    "    aluno = obter_aluno_row(cod_aluno)\n",
    "    if aluno is not None:\n",
    "        return dict(aluno)\n",
    "\n",
    "    return None\n",
    "    \n",
    "\n",
    "def _inicializar():\n",
    "    global encoder_municipio, model, df_alunos, df_alunos_all, cols_para_proba\n",
    "    \n",
    "    with open(path+'xgboost', 'rb') as f:\n",
    "        model = pickle.load(f)\n",
    "        \n",
    "    with open(path+'encoder_municipio', 'rb') as f:\n",
    "        encoder_municipio = pickle.load(f)\n",
    "        \n",
    "    df_alunos = pd.read_csv(path+'dados_alunos.csv')\n",
    "    df_alunos_all = pd.read_csv(path+'dados_alunos_all.csv')\n",
    "    cols_para_proba = ['SEXO', 'FLAG_BOLSA_FAM', 'UF_MUN_NASC', 'CORRACA', 'END_ZONA', 'PRONATEC']\n",
    "        \n",
    "_inicializar()"
   ]
  },
  {
   "cell_type": "code",
   "execution_count": 151,
   "metadata": {},
   "outputs": [],
   "source": [
    "aluno = obter_aluno_row(2104092)"
   ]
  },
  {
   "cell_type": "code",
   "execution_count": 152,
   "metadata": {},
   "outputs": [
    {
     "data": {
      "text/plain": [
       "0.6123368"
      ]
     },
     "execution_count": 152,
     "metadata": {},
     "output_type": "execute_result"
    }
   ],
   "source": [
    "probabilidade_evasao(aluno)"
   ]
  },
  {
   "cell_type": "code",
   "execution_count": 153,
   "metadata": {},
   "outputs": [
    {
     "data": {
      "text/plain": [
       "{'BAIRRO': 'CABELINHA',\n",
       " 'CD_ALUNO': 2079234,\n",
       " 'CD_ESCOLA': 110723,\n",
       " 'CEP': '12600000',\n",
       " 'CIDADE': 'LORENA',\n",
       " 'CORRACA': 6,\n",
       " 'END_ZONA': 0,\n",
       " 'FLAG_BOLSA_FAM': 0,\n",
       " 'FLAG_SIT_ALUNO': 0,\n",
       " 'NACIONALIDADE': 1.0,\n",
       " 'PRONATEC': 0.0,\n",
       " 'SERIE': 1,\n",
       " 'SEXO': 0.0,\n",
       " 'SIGLA_END_UF': 'SP',\n",
       " 'UF_MUN_NASC': 'SP'}"
      ]
     },
     "execution_count": 153,
     "metadata": {},
     "output_type": "execute_result"
    }
   ],
   "source": [
    "obter_dados_aluno(2079234)"
   ]
  },
  {
   "cell_type": "code",
   "execution_count": 154,
   "metadata": {},
   "outputs": [],
   "source": [
    "probas = probabilidade_evasao(df_alunos_all.iloc[1080:2000])"
   ]
  },
  {
   "cell_type": "code",
   "execution_count": 155,
   "metadata": {},
   "outputs": [
    {
     "data": {
      "text/plain": [
       "[0.3733661,\n",
       " 0.3733661,\n",
       " 0.36228904,\n",
       " 0.36228904,\n",
       " 0.36228904,\n",
       " 0.3733661,\n",
       " 0.6831635,\n",
       " 0.6831635,\n",
       " 0.36228904,\n",
       " 0.6541021]"
      ]
     },
     "execution_count": 155,
     "metadata": {},
     "output_type": "execute_result"
    }
   ],
   "source": [
    "probas[0:10]"
   ]
  },
  {
   "cell_type": "code",
   "execution_count": 164,
   "metadata": {},
   "outputs": [
    {
     "data": {
      "text/plain": [
       "[['SE', 0.6938861],\n",
       " ['ES', 0.62722605],\n",
       " ['DF', 0.6114207],\n",
       " ['RR', 0.60817474],\n",
       " ['RN', 0.6040134],\n",
       " ['PI', 0.60165805],\n",
       " ['SC', 0.59384847],\n",
       " ['RO', 0.59104604],\n",
       " ['RJ', 0.5542123],\n",
       " ['RS', 0.53633225],\n",
       " ['PA', 0.5210218],\n",
       " ['PE', 0.52038145],\n",
       " ['TO', 0.4818229],\n",
       " ['CE', 0.4752593],\n",
       " ['SP', 0.46199727],\n",
       " ['PB', 0.45966184],\n",
       " ['MG', 0.45228687],\n",
       " ['PR', 0.40148008],\n",
       " ['MT', 0.38188168],\n",
       " ['BA', 0.3779793],\n",
       " ['MS', 0.37640578],\n",
       " ['MA', 0.3714949],\n",
       " ['AP', 0.35518825],\n",
       " ['AL', 0.3318521],\n",
       " ['GO', 0.32725635],\n",
       " ['AC', 0.30917782],\n",
       " ['AM', 0.25358942]]"
      ]
     },
     "execution_count": 164,
     "metadata": {},
     "output_type": "execute_result"
    }
   ],
   "source": [
    "obter_municipios_proba()"
   ]
  },
  {
   "cell_type": "code",
   "execution_count": 189,
   "metadata": {},
   "outputs": [],
   "source": [
    "obter_aluno_row_por_index(3248798193252)"
   ]
  },
  {
   "cell_type": "code",
   "execution_count": 157,
   "metadata": {},
   "outputs": [],
   "source": [
    "indexs = groups['MG']"
   ]
  },
  {
   "cell_type": "code",
   "execution_count": 158,
   "metadata": {},
   "outputs": [],
   "source": [
    "df_estado = df_alunos_all.loc[indexs]"
   ]
  },
  {
   "cell_type": "code",
   "execution_count": 159,
   "metadata": {},
   "outputs": [],
   "source": [
    "proba_estado = np.array(probabilidade_evasao(df_estado)).mean()"
   ]
  },
  {
   "cell_type": "code",
   "execution_count": 178,
   "metadata": {},
   "outputs": [
    {
     "data": {
      "text/plain": [
       "27"
      ]
     },
     "execution_count": 178,
     "metadata": {},
     "output_type": "execute_result"
    }
   ],
   "source": [
    "get_municipios()"
   ]
  },
  {
   "cell_type": "code",
   "execution_count": 191,
   "metadata": {},
   "outputs": [
    {
     "data": {
      "text/plain": [
       "CD_ALUNO                            24017511\n",
       "CD_ESCOLA                              37217\n",
       "SEXO                                       0\n",
       "FLAG_BOLSA_FAM                             0\n",
       "UF_MUN_NASC                               SP\n",
       "CORRACA                                    3\n",
       "END_ZONA                                   0\n",
       "PRONATEC                                   0\n",
       "FLAG_SIT_ALUNO                             0\n",
       "BAIRRO            JD B ESPERANCA  V CARVALHO\n",
       "CEP                                 11471010\n",
       "CIDADE                               GUARUJA\n",
       "SIGLA_END_UF                              SP\n",
       "NACIONALIDADE                              1\n",
       "SERIE                                      1\n",
       "Name: 763812, dtype: object"
      ]
     },
     "execution_count": 191,
     "metadata": {},
     "output_type": "execute_result"
    }
   ],
   "source": [
    "df_alunos_all.iloc[763812]"
   ]
  },
  {
   "cell_type": "code",
   "execution_count": null,
   "metadata": {},
   "outputs": [],
   "source": []
  }
 ],
 "metadata": {
  "kernelspec": {
   "display_name": "Python 3",
   "language": "python",
   "name": "python3"
  },
  "language_info": {
   "codemirror_mode": {
    "name": "ipython",
    "version": 3
   },
   "file_extension": ".py",
   "mimetype": "text/x-python",
   "name": "python",
   "nbconvert_exporter": "python",
   "pygments_lexer": "ipython3",
   "version": "3.6.7"
  }
 },
 "nbformat": 4,
 "nbformat_minor": 2
}
